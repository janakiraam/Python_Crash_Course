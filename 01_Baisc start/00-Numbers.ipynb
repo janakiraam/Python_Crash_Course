{
 "cells": [
  {
   "cell_type": "code",
   "execution_count": 1,
   "id": "italian-inspector",
   "metadata": {},
   "outputs": [
    {
     "data": {
      "text/plain": [
       "3"
      ]
     },
     "execution_count": 1,
     "metadata": {},
     "output_type": "execute_result"
    }
   ],
   "source": [
    "### Basic Addition\n",
    "\n",
    "2+1"
   ]
  },
  {
   "cell_type": "code",
   "execution_count": 2,
   "id": "naval-sarah",
   "metadata": {},
   "outputs": [
    {
     "name": "stdout",
     "output_type": "stream",
     "text": [
      "4\n",
      "1.0\n",
      "1\n"
     ]
    }
   ],
   "source": [
    "print(2*2)\n",
    "print(2/2)\n",
    "print(2-1)"
   ]
  },
  {
   "cell_type": "code",
   "execution_count": 3,
   "id": "infrared-knowing",
   "metadata": {},
   "outputs": [
    {
     "name": "stdout",
     "output_type": "stream",
     "text": [
      "1\n"
     ]
    }
   ],
   "source": [
    "print(int(2/2))"
   ]
  },
  {
   "cell_type": "code",
   "execution_count": 5,
   "id": "funny-comedy",
   "metadata": {},
   "outputs": [
    {
     "data": {
      "text/plain": [
       "1"
      ]
     },
     "execution_count": 5,
     "metadata": {},
     "output_type": "execute_result"
    }
   ],
   "source": [
    "7%2#modulo"
   ]
  },
  {
   "cell_type": "markdown",
   "id": "valuable-network",
   "metadata": {},
   "source": [
    "How to use Power in number of python"
   ]
  },
  {
   "cell_type": "code",
   "execution_count": 7,
   "id": "russian-edmonton",
   "metadata": {},
   "outputs": [
    {
     "data": {
      "text/plain": [
       "27"
      ]
     },
     "execution_count": 7,
     "metadata": {},
     "output_type": "execute_result"
    }
   ],
   "source": [
    "3**3 #( 3power 3)"
   ]
  },
  {
   "cell_type": "markdown",
   "id": "parallel-fruit",
   "metadata": {},
   "source": [
    "# doing with variable"
   ]
  },
  {
   "cell_type": "code",
   "execution_count": 8,
   "id": "rough-command",
   "metadata": {},
   "outputs": [],
   "source": [
    "a=5"
   ]
  },
  {
   "cell_type": "code",
   "execution_count": 9,
   "id": "certain-complaint",
   "metadata": {},
   "outputs": [
    {
     "data": {
      "text/plain": [
       "10"
      ]
     },
     "execution_count": 9,
     "metadata": {},
     "output_type": "execute_result"
    }
   ],
   "source": [
    "a+a"
   ]
  },
  {
   "cell_type": "code",
   "execution_count": 10,
   "id": "basic-volleyball",
   "metadata": {},
   "outputs": [],
   "source": [
    "b=10"
   ]
  },
  {
   "cell_type": "code",
   "execution_count": 11,
   "id": "interim-lincoln",
   "metadata": {},
   "outputs": [
    {
     "data": {
      "text/plain": [
       "15"
      ]
     },
     "execution_count": 11,
     "metadata": {},
     "output_type": "execute_result"
    }
   ],
   "source": [
    "a+b"
   ]
  },
  {
   "cell_type": "code",
   "execution_count": 13,
   "id": "moderate-produce",
   "metadata": {},
   "outputs": [
    {
     "data": {
      "text/plain": [
       "9765625"
      ]
     },
     "execution_count": 13,
     "metadata": {},
     "output_type": "execute_result"
    }
   ],
   "source": [
    "a**b # a power of b "
   ]
  },
  {
   "cell_type": "markdown",
   "id": "certified-setup",
   "metadata": {},
   "source": [
    " How to create variable in python:\n",
    "        \n",
    "        The names you use when creating these labels need to follow a few rules:\n",
    "\n",
    "1. Names can not start with a number.\n",
    "2. There can be no spaces in the name, use _ instead.\n",
    "3. Can't use any of these symbols :'\",<>/?|\\()!@#$%^&*~-+\n",
    "4. It's considered best practice (PEP8) that names are lowercase.\n",
    "5. Avoid using the characters 'l' (lowercase letter el), 'O' (uppercase letter oh), \n",
    "   or 'I' (uppercase letter eye) as single character variable names.\n",
    "6. Avoid using words that have special meaning in Python like \"list\" and \"str\"\n",
    "\n",
    "\n"
   ]
  },
  {
   "cell_type": "code",
   "execution_count": 14,
   "id": "indian-prairie",
   "metadata": {},
   "outputs": [],
   "source": [
    "student_mark =495\n",
    "total_subject=5"
   ]
  },
  {
   "cell_type": "code",
   "execution_count": 16,
   "id": "elect-trouble",
   "metadata": {},
   "outputs": [
    {
     "name": "stdout",
     "output_type": "stream",
     "text": [
      "495\n",
      "5\n"
     ]
    }
   ],
   "source": [
    "print(student_mark)\n",
    "print(total_subject)"
   ]
  },
  {
   "cell_type": "code",
   "execution_count": 18,
   "id": "golden-elder",
   "metadata": {},
   "outputs": [],
   "source": [
    "percentage = student_mark/total_subject"
   ]
  },
  {
   "cell_type": "code",
   "execution_count": 19,
   "id": "linear-individual",
   "metadata": {},
   "outputs": [
    {
     "data": {
      "text/plain": [
       "99.0"
      ]
     },
     "execution_count": 19,
     "metadata": {},
     "output_type": "execute_result"
    }
   ],
   "source": [
    "percentage"
   ]
  }
 ],
 "metadata": {
  "kernelspec": {
   "display_name": "Python 3",
   "language": "python",
   "name": "python3"
  },
  "language_info": {
   "codemirror_mode": {
    "name": "ipython",
    "version": 3
   },
   "file_extension": ".py",
   "mimetype": "text/x-python",
   "name": "python",
   "nbconvert_exporter": "python",
   "pygments_lexer": "ipython3",
   "version": "3.8.5"
  }
 },
 "nbformat": 4,
 "nbformat_minor": 5
}

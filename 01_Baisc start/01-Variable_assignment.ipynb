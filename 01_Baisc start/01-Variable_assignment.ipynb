{
 "cells": [
  {
   "cell_type": "markdown",
   "id": "empty-subdivision",
   "metadata": {},
   "source": [
    "Variable Assignment\n",
    "Rules for variable names\n",
    "names can not start with a number\n",
    "\n",
    "names can not contain spaces, use _ intead\n",
    "\n",
    "names can not contain any of these symbols:\n",
    "\n",
    ":'\",<>/?|\\!@#%^&*~-+\n",
    "it's considered best practice (PEP8) that names are lowercase with underscores\n",
    "\n",
    "avoid using Python built-in keywords like list and str\n",
    "\n",
    "avoid using the single characters l (lowercase letter el), O (uppercase letter oh) and I (uppercase letter eye) as they can be confused with 1 and 0\n",
    "\n",
    "Dynamic Typing\n",
    "Python uses dynamic typing, meaning you can reassign variables to different data types. This makes Python very flexible in assigning data types; it differs from other languages that are statically typed."
   ]
  },
  {
   "cell_type": "code",
   "execution_count": 1,
   "id": "fresh-pathology",
   "metadata": {},
   "outputs": [],
   "source": [
    "a=10 # Assigning value"
   ]
  },
  {
   "cell_type": "code",
   "execution_count": 3,
   "id": "formed-store",
   "metadata": {},
   "outputs": [
    {
     "data": {
      "text/plain": [
       "10"
      ]
     },
     "execution_count": 3,
     "metadata": {},
     "output_type": "execute_result"
    }
   ],
   "source": [
    "a"
   ]
  },
  {
   "cell_type": "code",
   "execution_count": 4,
   "id": "nearby-chassis",
   "metadata": {},
   "outputs": [
    {
     "data": {
      "text/plain": [
       "20"
      ]
     },
     "execution_count": 4,
     "metadata": {},
     "output_type": "execute_result"
    }
   ],
   "source": [
    "a+a"
   ]
  },
  {
   "cell_type": "code",
   "execution_count": 5,
   "id": "continuing-organizer",
   "metadata": {},
   "outputs": [
    {
     "data": {
      "text/plain": [
       "100"
      ]
     },
     "execution_count": 5,
     "metadata": {},
     "output_type": "execute_result"
    }
   ],
   "source": [
    "a*a"
   ]
  },
  {
   "cell_type": "code",
   "execution_count": 6,
   "id": "close-dinner",
   "metadata": {},
   "outputs": [
    {
     "data": {
      "text/plain": [
       "int"
      ]
     },
     "execution_count": 6,
     "metadata": {},
     "output_type": "execute_result"
    }
   ],
   "source": [
    "type(a)"
   ]
  }
 ],
 "metadata": {
  "kernelspec": {
   "display_name": "Python 3",
   "language": "python",
   "name": "python3"
  },
  "language_info": {
   "codemirror_mode": {
    "name": "ipython",
    "version": 3
   },
   "file_extension": ".py",
   "mimetype": "text/x-python",
   "name": "python",
   "nbconvert_exporter": "python",
   "pygments_lexer": "ipython3",
   "version": "3.8.5"
  }
 },
 "nbformat": 4,
 "nbformat_minor": 5
}
